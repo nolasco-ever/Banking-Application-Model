{
 "cells": [
  {
   "cell_type": "code",
   "execution_count": 2,
   "metadata": {},
   "outputs": [],
   "source": [
    "# Configure Jupyter so figures appear in the notebook\n",
    "%matplotlib inline\n",
    "\n",
    "# Configure Jupyter to display the assigned value after an assignment\n",
    "%config InteractiveShell.ast_node_interactivity='last_expr_or_assign'\n",
    "\n",
    "# import functions from the modsim.py module\n",
    "from modsim import *\n",
    "\n",
    "from pandas import read_html"
   ]
  },
  {
   "cell_type": "markdown",
   "metadata": {},
   "source": [
    "# Banking Application Model\n",
    "### Ever Nolasco\n",
    "\n",
    "We will consider three different banks in Madison, NJ - each offering a different method of interest calculation.\n",
    "* Chase Bank\n",
    "* Lakeland Bank\n",
    "* PNC Bank\n",
    "\n",
    "Chase and Lakeland banks offer the same interest rate (3%) on checking accounts but compute and pay interest differently. At Chase, interest is computed and paid at the end of each year (annual compounding), and at Lakeland interest is compounded continuously.\n",
    "At Chase, if you deposit p<sub>0</sub> dollars at the beginning of Year 0, the balance of your account at the end of Year n is:<br>\n",
    "    x<sub>n</sub> = p<sub>0</sub>(1 + a)<sup>n</sup> where a = 0.03<br>\n",
    "Note: n is number of compounding periods or number of years as interest is compounded annually.<br>\n",
    "At Lakeland, your balance at any time t would be:<br> x(t) = p<sub>0</sub>e<sup>at</sup> where t is time in years"
   ]
  },
  {
   "cell_type": "markdown",
   "metadata": {},
   "source": [
    "<b>1) If you deposit $1,000 at each bank at the beginning of Year 0, how much would you have in each account (Chase and Lakeland banks) after 10 years?</b>"
   ]
  },
  {
   "cell_type": "code",
   "execution_count": 8,
   "metadata": {},
   "outputs": [
    {
     "data": {
      "text/html": [
       "<div>\n",
       "<style scoped>\n",
       "    .dataframe tbody tr th:only-of-type {\n",
       "        vertical-align: middle;\n",
       "    }\n",
       "\n",
       "    .dataframe tbody tr th {\n",
       "        vertical-align: top;\n",
       "    }\n",
       "\n",
       "    .dataframe thead th {\n",
       "        text-align: right;\n",
       "    }\n",
       "</style>\n",
       "<table border=\"1\" class=\"dataframe\">\n",
       "  <thead>\n",
       "    <tr style=\"text-align: right;\">\n",
       "      <th></th>\n",
       "      <th>values</th>\n",
       "    </tr>\n",
       "  </thead>\n",
       "  <tbody>\n",
       "  </tbody>\n",
       "</table>\n",
       "</div>"
      ],
      "text/plain": [
       "TimeSeries([], dtype: float64)"
      ]
     },
     "execution_count": 8,
     "metadata": {},
     "output_type": "execute_result"
    }
   ],
   "source": [
    "#Variables will hold starting time and end time in years\n",
    "t_0 = 0\n",
    "t_end = 10\n",
    "\n",
    "#Amount of money in dollars at year 0 and interest rate\n",
    "p0 = 1000\n",
    "a = 0.03\n",
    "\n",
    "#Arrays that will hold the money values for each year for each bank\n",
    "Chase = TimeSeries()\n",
    "Lakeland = TimeSeries()"
   ]
  },
  {
   "cell_type": "code",
   "execution_count": 16,
   "metadata": {},
   "outputs": [],
   "source": [
    "#linrange used generate an array of 11 different years from 0 to 10 \n",
    "#The above formulas are used for each respective bank\n",
    "for t in linrange(t_0, t_end, endpoint=True):\n",
    "    Chase[t] = p0*((1+a)**t)\n",
    "    Lakeland[t] = p0*exp(a*t)"
   ]
  },
  {
   "cell_type": "code",
   "execution_count": 17,
   "metadata": {},
   "outputs": [
    {
     "data": {
      "text/html": [
       "<div>\n",
       "<style scoped>\n",
       "    .dataframe tbody tr th:only-of-type {\n",
       "        vertical-align: middle;\n",
       "    }\n",
       "\n",
       "    .dataframe tbody tr th {\n",
       "        vertical-align: top;\n",
       "    }\n",
       "\n",
       "    .dataframe thead th {\n",
       "        text-align: right;\n",
       "    }\n",
       "</style>\n",
       "<table border=\"1\" class=\"dataframe\">\n",
       "  <thead>\n",
       "    <tr style=\"text-align: right;\">\n",
       "      <th></th>\n",
       "      <th>values</th>\n",
       "    </tr>\n",
       "  </thead>\n",
       "  <tbody>\n",
       "    <tr>\n",
       "      <th>0</th>\n",
       "      <td>1000.000000</td>\n",
       "    </tr>\n",
       "    <tr>\n",
       "      <th>1</th>\n",
       "      <td>1030.000000</td>\n",
       "    </tr>\n",
       "    <tr>\n",
       "      <th>2</th>\n",
       "      <td>1060.900000</td>\n",
       "    </tr>\n",
       "    <tr>\n",
       "      <th>3</th>\n",
       "      <td>1092.727000</td>\n",
       "    </tr>\n",
       "    <tr>\n",
       "      <th>4</th>\n",
       "      <td>1125.508810</td>\n",
       "    </tr>\n",
       "    <tr>\n",
       "      <th>5</th>\n",
       "      <td>1159.274074</td>\n",
       "    </tr>\n",
       "    <tr>\n",
       "      <th>6</th>\n",
       "      <td>1194.052297</td>\n",
       "    </tr>\n",
       "    <tr>\n",
       "      <th>7</th>\n",
       "      <td>1229.873865</td>\n",
       "    </tr>\n",
       "    <tr>\n",
       "      <th>8</th>\n",
       "      <td>1266.770081</td>\n",
       "    </tr>\n",
       "    <tr>\n",
       "      <th>9</th>\n",
       "      <td>1304.773184</td>\n",
       "    </tr>\n",
       "    <tr>\n",
       "      <th>10</th>\n",
       "      <td>1343.916379</td>\n",
       "    </tr>\n",
       "  </tbody>\n",
       "</table>\n",
       "</div>"
      ],
      "text/plain": [
       "0     1000.000000\n",
       "1     1030.000000\n",
       "2     1060.900000\n",
       "3     1092.727000\n",
       "4     1125.508810\n",
       "5     1159.274074\n",
       "6     1194.052297\n",
       "7     1229.873865\n",
       "8     1266.770081\n",
       "9     1304.773184\n",
       "10    1343.916379\n",
       "dtype: float64"
      ]
     },
     "execution_count": 17,
     "metadata": {},
     "output_type": "execute_result"
    }
   ],
   "source": [
    "Chase"
   ]
  },
  {
   "cell_type": "code",
   "execution_count": 18,
   "metadata": {},
   "outputs": [
    {
     "data": {
      "text/html": [
       "<div>\n",
       "<style scoped>\n",
       "    .dataframe tbody tr th:only-of-type {\n",
       "        vertical-align: middle;\n",
       "    }\n",
       "\n",
       "    .dataframe tbody tr th {\n",
       "        vertical-align: top;\n",
       "    }\n",
       "\n",
       "    .dataframe thead th {\n",
       "        text-align: right;\n",
       "    }\n",
       "</style>\n",
       "<table border=\"1\" class=\"dataframe\">\n",
       "  <thead>\n",
       "    <tr style=\"text-align: right;\">\n",
       "      <th></th>\n",
       "      <th>values</th>\n",
       "    </tr>\n",
       "  </thead>\n",
       "  <tbody>\n",
       "    <tr>\n",
       "      <th>0</th>\n",
       "      <td>1000.000000</td>\n",
       "    </tr>\n",
       "    <tr>\n",
       "      <th>1</th>\n",
       "      <td>1030.454534</td>\n",
       "    </tr>\n",
       "    <tr>\n",
       "      <th>2</th>\n",
       "      <td>1061.836547</td>\n",
       "    </tr>\n",
       "    <tr>\n",
       "      <th>3</th>\n",
       "      <td>1094.174284</td>\n",
       "    </tr>\n",
       "    <tr>\n",
       "      <th>4</th>\n",
       "      <td>1127.496852</td>\n",
       "    </tr>\n",
       "    <tr>\n",
       "      <th>5</th>\n",
       "      <td>1161.834243</td>\n",
       "    </tr>\n",
       "    <tr>\n",
       "      <th>6</th>\n",
       "      <td>1197.217363</td>\n",
       "    </tr>\n",
       "    <tr>\n",
       "      <th>7</th>\n",
       "      <td>1233.678060</td>\n",
       "    </tr>\n",
       "    <tr>\n",
       "      <th>8</th>\n",
       "      <td>1271.249150</td>\n",
       "    </tr>\n",
       "    <tr>\n",
       "      <th>9</th>\n",
       "      <td>1309.964451</td>\n",
       "    </tr>\n",
       "    <tr>\n",
       "      <th>10</th>\n",
       "      <td>1349.858808</td>\n",
       "    </tr>\n",
       "  </tbody>\n",
       "</table>\n",
       "</div>"
      ],
      "text/plain": [
       "0     1000.000000\n",
       "1     1030.454534\n",
       "2     1061.836547\n",
       "3     1094.174284\n",
       "4     1127.496852\n",
       "5     1161.834243\n",
       "6     1197.217363\n",
       "7     1233.678060\n",
       "8     1271.249150\n",
       "9     1309.964451\n",
       "10    1349.858808\n",
       "dtype: float64"
      ]
     },
     "execution_count": 18,
     "metadata": {},
     "output_type": "execute_result"
    }
   ],
   "source": [
    "Lakeland"
   ]
  },
  {
   "cell_type": "markdown",
   "metadata": {},
   "source": [
    "<b>2) Plot the Time (in years) on x axis and the Value (in dollars) on the y axis with appropriate legend for Chase and Lakeland banks.</b>"
   ]
  },
  {
   "cell_type": "code",
   "execution_count": 19,
   "metadata": {},
   "outputs": [
    {
     "data": {
      "image/png": "[encoded data removed]",
      "text/plain": [
       "<Figure size 432x288 with 1 Axes>"
      ]
     },
     "metadata": {},
     "output_type": "display_data"
    }
   ],
   "source": [
    "#Plot both arrays\n",
    "plot(Chase, color=\"blue\", label=\"Chase Bank\")\n",
    "plot(Lakeland, color=\"red\", label=\"Lakeland Bank\")\n",
    "decorate(title=\"Ever Nolasco Banking Application Model\", xlabel=\"Time (years)\", ylabel=\"Value (dollars)\")"
   ]
  },
  {
   "cell_type": "markdown",
   "metadata": {},
   "source": [
    "<b>3) Is there an interest rate Chase could pay so that your balance at the end of each year would be the same at both banks? What is this a_new?</b>"
   ]
  },
  {
   "cell_type": "markdown",
   "metadata": {},
   "source": [
    "Yes. This is possible if we isolate a in:<br><br>\n",
    "\n",
    "x<sub>n</sub> = p<sub>0</sub>(1 + a)<sup>n</sup> where a = 0.03<br><br>\n",
    "\n",
    "and make x<sub>n</sub> = Lakeland[n]. This way, we can solve for a and get the interest rate that will make Chase[n] = Lakeland[n]<br><br>\n",
    "\n",
    "So if we isolate a, we get this equation:<br><br>\n",
    "\n",
    "a = (x<sub>n</sub>/p<sub>0</sub>)<sup>1/n</sup> - 1 <br><br>"
   ]
  },
  {
   "cell_type": "code",
   "execution_count": 22,
   "metadata": {},
   "outputs": [
    {
     "data": {
      "text/plain": [
       "0.030454533953516938"
      ]
     },
     "execution_count": 22,
     "metadata": {},
     "output_type": "execute_result"
    }
   ],
   "source": [
    "#Variables we will be using in the new equation\n",
    "x2 = Lakeland[2]\n",
    "n = 2\n",
    "\n",
    "a_new = (x2/p0)**(1/n) - 1"
   ]
  },
  {
   "cell_type": "code",
   "execution_count": 24,
   "metadata": {},
   "outputs": [],
   "source": [
    "#Create an alternate array for Chase and we will use a_new as the interest rate\n",
    "Chase_alt = TimeSeries()\n",
    "\n",
    "for t in linrange(t_0, t_end, endpoint=True):\n",
    "    Chase_alt[t] = p0*((1+a_new)**t)"
   ]
  },
  {
   "cell_type": "code",
   "execution_count": 25,
   "metadata": {},
   "outputs": [
    {
     "data": {
      "image/png": "[encoded data removed]",
      "text/plain": [
       "<Figure size 432x288 with 1 Axes>"
      ]
     },
     "metadata": {},
     "output_type": "display_data"
    }
   ],
   "source": [
    "#Plot both arrays\n",
    "plot(Chase_alt, color=\"blue\", label=\"Chase Bank\")\n",
    "plot(Lakeland, color=\"red\", label=\"Lakeland Bank\")\n",
    "decorate(title=\"Ever Nolasco Banking Application Model\", xlabel=\"Time (years)\", ylabel=\"Value (dollars)\")"
   ]
  },
  {
   "cell_type": "markdown",
   "metadata": {},
   "source": [
    "As we can see from the chart above, the new interest rate for Chase Bank, a=0.030454533953516938, works to make the balance at the end of each year for Chase and Lakeland Bank the same.<br><br><br>\n",
    "\n",
    "\n",
    "Furthermore, In order to compete with Chase Bank and Lakeland Bank, PNC Bank offers a parabolic savings account where the balance is a polynomial function of time given by:<br><br>\n",
    "\n",
    "x(t) = p<sub>0</sub> + (B<sub>1</sub> * t) + (B<sub>2</sub>*t<sup>2</sup>) with B<sub>1</sub> = 30 and B<sub>2</sub> = 0.5<br><br>\n",
    "\n",
    "<b>4) Suppose you deposit $1,000 at all the three banks at the beginning of Year 0. How much would you have in each account at the end of Year 10? How about Year 20? And Year 100? Which bank pays the highest interest?</b>"
   ]
  },
  {
   "cell_type": "code",
   "execution_count": 31,
   "metadata": {},
   "outputs": [],
   "source": [
    "#An array to hold PNC values\n",
    "PNC = TimeSeries()\n",
    "\n",
    "#Set the needed variables\n",
    "B1 = 30\n",
    "B2 = 0.5\n",
    "\n",
    "#Change t_end from 10 to 100 years\n",
    "t_end = 100\n",
    "\n",
    "for t in linrange(t_0, t_end, endpoint=True):\n",
    "    Chase[t] = p0*((1+a)**t)\n",
    "    Lakeland[t] = p0*exp(a*t)\n",
    "    PNC[t] = p0+(B1*t)+(B2*(t**2))"
   ]
  },
  {
   "cell_type": "code",
   "execution_count": 32,
   "metadata": {},
   "outputs": [
    {
     "data": {
      "text/html": [
       "<div>\n",
       "<style scoped>\n",
       "    .dataframe tbody tr th:only-of-type {\n",
       "        vertical-align: middle;\n",
       "    }\n",
       "\n",
       "    .dataframe tbody tr th {\n",
       "        vertical-align: top;\n",
       "    }\n",
       "\n",
       "    .dataframe thead th {\n",
       "        text-align: right;\n",
       "    }\n",
       "</style>\n",
       "<table border=\"1\" class=\"dataframe\">\n",
       "  <thead>\n",
       "    <tr style=\"text-align: right;\">\n",
       "      <th></th>\n",
       "      <th>Year</th>\n",
       "      <th>Chase Bank</th>\n",
       "      <th>Lakeland Bank</th>\n",
       "      <th>PNC Bank</th>\n",
       "    </tr>\n",
       "  </thead>\n",
       "  <tbody>\n",
       "    <tr>\n",
       "      <th>0</th>\n",
       "      <td>10.0</td>\n",
       "      <td>1349.858808</td>\n",
       "      <td>1356.008339</td>\n",
       "      <td>1350.0</td>\n",
       "    </tr>\n",
       "    <tr>\n",
       "      <th>1</th>\n",
       "      <td>20.0</td>\n",
       "      <td>1822.118800</td>\n",
       "      <td>1838.758617</td>\n",
       "      <td>1800.0</td>\n",
       "    </tr>\n",
       "    <tr>\n",
       "      <th>2</th>\n",
       "      <td>100.0</td>\n",
       "      <td>20085.536923</td>\n",
       "      <td>21019.559213</td>\n",
       "      <td>9000.0</td>\n",
       "    </tr>\n",
       "  </tbody>\n",
       "</table>\n",
       "</div>"
      ],
      "text/plain": [
       "    Year    Chase Bank  Lakeland Bank  PNC Bank\n",
       "0   10.0   1349.858808    1356.008339    1350.0\n",
       "1   20.0   1822.118800    1838.758617    1800.0\n",
       "2  100.0  20085.536923   21019.559213    9000.0"
      ]
     },
     "execution_count": 32,
     "metadata": {},
     "output_type": "execute_result"
    }
   ],
   "source": [
    "data = [[10, Chase[10], Lakeland[10], PNC[10]], [20, Chase[20], Lakeland[20], PNC[20]],\n",
    "        [100, Chase[100], Lakeland[100], PNC[100]]]\n",
    "\n",
    "df = pd.DataFrame(data, columns=['Year', 'Chase Bank', 'Lakeland Bank', 'PNC Bank'], dtype=float)\n",
    "df"
   ]
  },
  {
   "cell_type": "markdown",
   "metadata": {},
   "source": [
    "As we can see from the data frame above, Lakeland Bank pays a higher interest rate than the other two banks.<br><br>\n",
    "\n",
    "<b>5) Make the plots (as in Q2) for all three banks for all the years from 0 to 100 with appropriate legend, appropriate axes labels and chart title.</b>"
   ]
  },
  {
   "cell_type": "code",
   "execution_count": 33,
   "metadata": {},
   "outputs": [
    {
     "data": {
      "image/png": "[encoded data removed]",
      "text/plain": [
       "<Figure size 432x288 with 1 Axes>"
      ]
     },
     "metadata": {},
     "output_type": "display_data"
    }
   ],
   "source": [
    "#Plot both arrays\n",
    "plot(Chase, color=\"blue\", label=\"Chase Bank\")\n",
    "plot(Lakeland, color=\"red\", label=\"Lakeland Bank\")\n",
    "plot(PNC, color=\"green\", label=\"PNC Bank\")\n",
    "decorate(title=\"Ever Nolasco Banking Application Model\", xlabel=\"Time (years)\", ylabel=\"Value (dollars)\")"
   ]
  },
  {
   "cell_type": "code",
   "execution_count": null,
   "metadata": {},
   "outputs": [],
   "source": []
  }
 ],
 "metadata": {
  "kernelspec": {
   "display_name": "Python 3",
   "language": "python",
   "name": "python3"
  },
  "language_info": {
   "codemirror_mode": {
    "name": "ipython",
    "version": 3
   },
   "file_extension": ".py",
   "mimetype": "text/x-python",
   "name": "python",
   "nbconvert_exporter": "python",
   "pygments_lexer": "ipython3",
   "version": "3.8.5"
  }
 },
 "nbformat": 4,
 "nbformat_minor": 4
}
